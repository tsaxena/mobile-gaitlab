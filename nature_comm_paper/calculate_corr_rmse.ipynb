{
 "cells": [
  {
   "cell_type": "code",
   "execution_count": 12,
   "metadata": {},
   "outputs": [],
   "source": [
    "import numpy as np\n",
    "import random as rn\n",
    "import matplotlib.pyplot as plt\n",
    "%matplotlib inline\n",
    "import pandas as pd\n",
    "import pickle\n",
    "from video_process_utils import *"
   ]
  },
  {
   "cell_type": "code",
   "execution_count": 13,
   "metadata": {},
   "outputs": [],
   "source": [
    "from sklearn.metrics import mean_squared_error"
   ]
  },
  {
   "cell_type": "code",
   "execution_count": 14,
   "metadata": {},
   "outputs": [],
   "source": [
    "alldata_processed =\\\n",
    "    pd.read_csv(\"data/processed/alldata_processed_with_dev_residual.csv\" )\n",
    "alldata_processed['videoid'] = alldata_processed['videoid'].apply(lambda x: int(x))"
   ]
  },
  {
   "cell_type": "code",
   "execution_count": 15,
   "metadata": {},
   "outputs": [],
   "source": [
    "results = []"
   ]
  },
  {
   "cell_type": "code",
   "execution_count": 21,
   "metadata": {},
   "outputs": [],
   "source": [
    "target_cols = ['GDI']#,'speed','cadence','KneeFlex_maxExtension']\n",
    "\n",
    "for idx,target_col in enumerate(target_cols):\n",
    "    target_df = alldata_processed[[\"videoid\",\"side\",target_col]].copy()\n",
    "    predictions = pd.read_csv('./data/predictions/cnn_%s_predictions_best_epoch.csv' % (target_col),dtype={'videoid':int})\n",
    "    predictions = predictions.merge(right=target_df,on=['videoid'],how='left')\n",
    "    predictions['error2'] = np.square(predictions['%s_pred_corrected' % (target_col)] - predictions['%s' % (target_col)])\n",
    "    for dataset in ['train','validation','test']:\n",
    "        c = predictions[predictions['dataset'] == dataset].corr()['%s' % (target_col)]['%s_pred_corrected' % (target_col)]\n",
    "        rmse = np.sqrt(predictions[predictions['dataset'] == dataset]['error2'].mean())\n",
    "        results.append([\"cnn\",target_col,dataset,c,rmse,idx])"
   ]
  },
  {
   "cell_type": "code",
   "execution_count": 29,
   "metadata": {},
   "outputs": [],
   "source": [
    "for mod in ['rr','rf']:\n",
    "    for idx,target_col in enumerate(target_cols):\n",
    "        target_df = alldata_processed[[\"videoid\",\"side\",target_col]].copy()\n",
    "        predictions = pd.read_csv(\"./data/predictions/%s_%s_predictions.csv\" % (mod,target_col),dtype={'videoid':int})\n",
    "        predictions = predictions.merge(right=target_df,on=['videoid','side'],how='left')\n",
    "        predictions['error2'] = np.square(predictions['%s_pred' % (target_col)] - predictions['%s' % (target_col)])\n",
    "        for dataset in ['train','validation','test']:\n",
    "            c = predictions[predictions['dataset'] == dataset].corr()['%s' % (target_col)]['%s_pred' % (target_col)]\n",
    "            rmse = np.sqrt(predictions[predictions['dataset'] == dataset]['error2'].mean())\n",
    "            results.append([mod,target_col,dataset,c,rmse,idx])"
   ]
  },
  {
   "cell_type": "code",
   "execution_count": 30,
   "metadata": {},
   "outputs": [],
   "source": [
    "results_df = pd.DataFrame(results,columns=['model','target','dataset','correlation','rmse','idx'])"
   ]
  },
  {
   "cell_type": "code",
   "execution_count": 31,
   "metadata": {},
   "outputs": [
    {
     "data": {
      "text/html": [
       "<div>\n",
       "<style scoped>\n",
       "    .dataframe tbody tr th:only-of-type {\n",
       "        vertical-align: middle;\n",
       "    }\n",
       "\n",
       "    .dataframe tbody tr th {\n",
       "        vertical-align: top;\n",
       "    }\n",
       "\n",
       "    .dataframe thead th {\n",
       "        text-align: right;\n",
       "    }\n",
       "</style>\n",
       "<table border=\"1\" class=\"dataframe\">\n",
       "  <thead>\n",
       "    <tr style=\"text-align: right;\">\n",
       "      <th></th>\n",
       "      <th>model</th>\n",
       "      <th>target</th>\n",
       "      <th>dataset</th>\n",
       "      <th>correlation</th>\n",
       "      <th>rmse</th>\n",
       "      <th>idx</th>\n",
       "    </tr>\n",
       "  </thead>\n",
       "  <tbody>\n",
       "    <tr>\n",
       "      <th>2</th>\n",
       "      <td>cnn</td>\n",
       "      <td>GDI</td>\n",
       "      <td>test</td>\n",
       "      <td>0.708082</td>\n",
       "      <td>8.613726</td>\n",
       "      <td>0</td>\n",
       "    </tr>\n",
       "    <tr>\n",
       "      <th>5</th>\n",
       "      <td>cnn</td>\n",
       "      <td>GDI</td>\n",
       "      <td>test</td>\n",
       "      <td>0.708082</td>\n",
       "      <td>8.613726</td>\n",
       "      <td>0</td>\n",
       "    </tr>\n",
       "    <tr>\n",
       "      <th>8</th>\n",
       "      <td>rr</td>\n",
       "      <td>GDI</td>\n",
       "      <td>test</td>\n",
       "      <td>0.676394</td>\n",
       "      <td>8.638938</td>\n",
       "      <td>0</td>\n",
       "    </tr>\n",
       "    <tr>\n",
       "      <th>11</th>\n",
       "      <td>rf</td>\n",
       "      <td>GDI</td>\n",
       "      <td>test</td>\n",
       "      <td>0.676394</td>\n",
       "      <td>8.638938</td>\n",
       "      <td>0</td>\n",
       "    </tr>\n",
       "  </tbody>\n",
       "</table>\n",
       "</div>"
      ],
      "text/plain": [
       "   model target dataset  correlation      rmse  idx\n",
       "2    cnn    GDI    test     0.708082  8.613726    0\n",
       "5    cnn    GDI    test     0.708082  8.613726    0\n",
       "8     rr    GDI    test     0.676394  8.638938    0\n",
       "11    rf    GDI    test     0.676394  8.638938    0"
      ]
     },
     "execution_count": 31,
     "metadata": {},
     "output_type": "execute_result"
    }
   ],
   "source": [
    "results_df[results_df['dataset'] == 'test']"
   ]
  },
  {
   "cell_type": "code",
   "execution_count": 35,
   "metadata": {},
   "outputs": [
    {
     "name": "stdout",
     "output_type": "stream",
     "text": [
      "[0]\n",
      "2    0.708082\n",
      "5    0.708082\n",
      "Name: correlation, dtype: float64\n"
     ]
    },
    {
     "data": {
      "image/png": "[encoded data removed]",
      "text/plain": [
       "<Figure size 432x288 with 1 Axes>"
      ]
     },
     "metadata": {},
     "output_type": "display_data"
    }
   ],
   "source": [
    "# Setting the positions and width for the bars\n",
    "results_df_test = results_df[results_df['dataset'] == 'test'].copy().sort_values(by=['model','idx'])\n",
    "pos = list(range(1))\n",
    "width = 0.25 \n",
    "    \n",
    "# Plotting the bars\n",
    "fig, ax = plt.subplots()\n",
    "\n",
    "print(pos)\n",
    "print(results_df_test[results_df_test['model'] == 'cnn']['correlation'])\n",
    "\n",
    "plt.bar(pos, results_df_test[results_df_test['model'] == 'cnn']['correlation'], \n",
    "        width, \n",
    "        alpha=0.5, label='CNN');\n",
    "\n",
    "plt.bar([p + width for p in pos], results_df_test[results_df_test['model'] == 'rr']['correlation'], \n",
    "        width, \n",
    "        alpha=0.5, label='Ridge Regression');\n",
    "\n",
    "plt.bar([p + 2*width for p in pos], results_df_test[results_df_test['model'] == 'rf']['correlation'], \n",
    "        width, \n",
    "        alpha=0.5, label='Random Forest');\n",
    "\n",
    "ax.set_xticks([p + width for p in pos])\n",
    "ax.set_xticklabels(results_df_test['target']);\n",
    "plt.xlabel(\"Parameter\")\n",
    "plt.ylabel(\"Correlation\")\n",
    "plt.legend()\n",
    "plt.ylim([0.5,1]);\n",
    "plt.title(\"Model Performance: Test Correlation\")\n",
    "plt.savefig(\"figures/corr_performance.png\",dpi=600)"
   ]
  },
  {
   "cell_type": "code",
   "execution_count": 36,
   "metadata": {},
   "outputs": [
    {
     "data": {
      "text/html": [
       "<div>\n",
       "<style scoped>\n",
       "    .dataframe tbody tr th:only-of-type {\n",
       "        vertical-align: middle;\n",
       "    }\n",
       "\n",
       "    .dataframe tbody tr th {\n",
       "        vertical-align: top;\n",
       "    }\n",
       "\n",
       "    .dataframe thead th {\n",
       "        text-align: right;\n",
       "    }\n",
       "</style>\n",
       "<table border=\"1\" class=\"dataframe\">\n",
       "  <thead>\n",
       "    <tr style=\"text-align: right;\">\n",
       "      <th></th>\n",
       "      <th>model</th>\n",
       "      <th>target</th>\n",
       "      <th>dataset</th>\n",
       "      <th>correlation</th>\n",
       "      <th>rmse</th>\n",
       "      <th>idx</th>\n",
       "    </tr>\n",
       "  </thead>\n",
       "  <tbody>\n",
       "    <tr>\n",
       "      <th>2</th>\n",
       "      <td>cnn</td>\n",
       "      <td>GDI</td>\n",
       "      <td>test</td>\n",
       "      <td>0.708082</td>\n",
       "      <td>8.613726</td>\n",
       "      <td>0</td>\n",
       "    </tr>\n",
       "    <tr>\n",
       "      <th>5</th>\n",
       "      <td>cnn</td>\n",
       "      <td>GDI</td>\n",
       "      <td>test</td>\n",
       "      <td>0.708082</td>\n",
       "      <td>8.613726</td>\n",
       "      <td>0</td>\n",
       "    </tr>\n",
       "    <tr>\n",
       "      <th>11</th>\n",
       "      <td>rf</td>\n",
       "      <td>GDI</td>\n",
       "      <td>test</td>\n",
       "      <td>0.676394</td>\n",
       "      <td>8.638938</td>\n",
       "      <td>0</td>\n",
       "    </tr>\n",
       "    <tr>\n",
       "      <th>8</th>\n",
       "      <td>rr</td>\n",
       "      <td>GDI</td>\n",
       "      <td>test</td>\n",
       "      <td>0.676394</td>\n",
       "      <td>8.638938</td>\n",
       "      <td>0</td>\n",
       "    </tr>\n",
       "  </tbody>\n",
       "</table>\n",
       "</div>"
      ],
      "text/plain": [
       "   model target dataset  correlation      rmse  idx\n",
       "2    cnn    GDI    test     0.708082  8.613726    0\n",
       "5    cnn    GDI    test     0.708082  8.613726    0\n",
       "11    rf    GDI    test     0.676394  8.638938    0\n",
       "8     rr    GDI    test     0.676394  8.638938    0"
      ]
     },
     "execution_count": 36,
     "metadata": {},
     "output_type": "execute_result"
    }
   ],
   "source": [
    "results_df_test"
   ]
  },
  {
   "cell_type": "code",
   "execution_count": null,
   "metadata": {},
   "outputs": [],
   "source": []
  }
 ],
 "metadata": {
  "kernelspec": {
   "display_name": "Python 3",
   "language": "python",
   "name": "python3"
  },
  "language_info": {
   "codemirror_mode": {
    "name": "ipython",
    "version": 3
   },
   "file_extension": ".py",
   "mimetype": "text/x-python",
   "name": "python",
   "nbconvert_exporter": "python",
   "pygments_lexer": "ipython3",
   "version": "3.6.5"
  }
 },
 "nbformat": 4,
 "nbformat_minor": 2
}
