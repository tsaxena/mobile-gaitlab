{
 "cells": [
  {
   "cell_type": "code",
   "execution_count": 11,
   "metadata": {},
   "outputs": [],
   "source": [
    "import numpy as np\n",
    "import random as rn\n",
    "import matplotlib.pyplot as plt\n",
    "%matplotlib inline\n",
    "import pandas as pd\n",
    "import pickle\n",
    "from video_process_utils import *"
   ]
  },
  {
   "cell_type": "code",
   "execution_count": 12,
   "metadata": {},
   "outputs": [],
   "source": [
    "from sklearn.metrics import mean_squared_error"
   ]
  },
  {
   "cell_type": "code",
   "execution_count": 13,
   "metadata": {},
   "outputs": [],
   "source": [
    "alldata_processed =\\\n",
    "    pd.read_csv(\"data/processed/alldata_processed_with_dev_residual.csv\" )\n",
    "alldata_processed['videoid'] = alldata_processed['videoid'].apply(lambda x: int(x))"
   ]
  },
  {
   "cell_type": "code",
   "execution_count": 14,
   "metadata": {},
   "outputs": [],
   "source": [
    "results = []"
   ]
  },
  {
   "cell_type": "code",
   "execution_count": 19,
   "metadata": {},
   "outputs": [
    {
     "name": "stdout",
     "output_type": "stream",
     "text": [
      "['GDI_pred_corrected', 'videoid', 'GDI', 'dataset']\n",
      "['GDI_pred_corrected', 'videoid', 'GDI', 'dataset', 'side']\n",
      "      GDI_pred_corrected   videoid         GDI dataset side\n",
      "0              79.633265  10458301   69.980168   train    R\n",
      "1              79.633265  10458301   69.980168   train    L\n",
      "2              82.533641  10458302   80.202906   train    R\n",
      "3              82.533641  10458302   80.202906   train    L\n",
      "4              66.385002  10576905   59.865288    test    R\n",
      "5              66.385002  10576905   59.865288    test    L\n",
      "6              63.413021  10772801   46.613656   train    R\n",
      "7              63.413021  10772801   46.613656   train    L\n",
      "8              90.641131  10843002   87.142924   train    R\n",
      "9              90.641131  10843002   87.142924   train    L\n",
      "10             54.011386  10953201   50.225508   train    R\n",
      "11             54.011386  10953201   50.225508   train    L\n",
      "12             55.847669  10978105   60.641282   train    R\n",
      "13             55.847669  10978105   60.641282   train    L\n",
      "14             68.621679  11221801   67.245077   train    R\n",
      "15             68.621679  11221801   67.245077   train    L\n",
      "16             74.769870  11570007   79.036558   train    R\n",
      "17             74.769870  11570007   79.036558   train    L\n",
      "18             80.116616  11765302   84.083704   train    R\n",
      "19             80.116616  11765302   84.083704   train    L\n",
      "20             69.867781  11766902   66.461683   train    R\n",
      "21             69.867781  11766902   66.461683   train    L\n",
      "22             84.478506  11790507   86.698080   train    R\n",
      "23             84.478506  11790507   86.698080   train    L\n",
      "24             72.193262  11827406   72.170379   train    R\n",
      "25             72.193262  11827406   72.170379   train    L\n",
      "26             61.475127  11855101   57.938024   train    R\n",
      "27             61.475127  11855101   57.938024   train    L\n",
      "28             71.287208  11935307   73.194436   train    R\n",
      "29             71.287208  11935307   73.194436   train    L\n",
      "...                  ...       ...         ...     ...  ...\n",
      "4394           49.095154  41346201   51.015411   train    R\n",
      "4395           49.095154  41346201   51.015411   train    L\n",
      "4396           74.041562  41352001   71.618444   train    R\n",
      "4397           74.041562  41352001   71.618444   train    L\n",
      "4398           67.444753  41372903   64.711164   train    R\n",
      "4399           67.444753  41372903   64.711164   train    L\n",
      "4400           60.697109  41381201   40.504018   train    R\n",
      "4401           60.697109  41381201   40.504018   train    L\n",
      "4402           63.801752  41403301   51.122371   train    R\n",
      "4403           63.801752  41403301   51.122371   train    L\n",
      "4404           88.449125  41408301   90.103510   train    R\n",
      "4405           88.449125  41408301   90.103510   train    L\n",
      "4406           96.209924  41408302  102.903828   train    R\n",
      "4407           96.209924  41408302  102.903828   train    L\n",
      "4408           67.051015  41409102   67.808901    test    R\n",
      "4409           67.051015  41409102   67.808901    test    L\n",
      "4410           64.671863  41420501   67.182507   train    R\n",
      "4411           64.671863  41420501   67.182507   train    L\n",
      "4412           76.652659  41420502   79.076331   train    R\n",
      "4413           76.652659  41420502   79.076331   train    L\n",
      "4414           83.402713  41420505   85.480053   train    R\n",
      "4415           83.402713  41420505   85.480053   train    L\n",
      "4416           73.412583  41420506   77.919966   train    R\n",
      "4417           73.412583  41420506   77.919966   train    L\n",
      "4418           85.002069  41438702   84.970967   train    R\n",
      "4419           85.002069  41438702   84.970967   train    L\n",
      "4420           83.015668  41438703   81.034817   train    R\n",
      "4421           83.015668  41438703   81.034817   train    L\n",
      "4422           85.876574  41438704   80.775921   train    R\n",
      "4423           85.876574  41438704   80.775921   train    L\n",
      "\n",
      "[4424 rows x 5 columns]\n"
     ]
    }
   ],
   "source": [
    "target_cols = ['GDI']#,'speed','cadence','KneeFlex_maxExtension']\n",
    "\n",
    "\n",
    "for idx,target_col in enumerate(target_cols):\n",
    "    target_df = alldata_processed[[\"videoid\",\"side\"]].copy()\n",
    "    predictions = pd.read_csv('./data/predictions/cnn_%s_predictions_best_epoch.csv' % (target_col),dtype={'videoid':int})\n",
    "    print(list(predictions))\n",
    "    predictions = predictions.merge(right=target_df,on=['videoid'],how='left')\n",
    "    print(list(predictions))\n",
    "    print(predictions)\n",
    "    predictions['error2'] = np.square(predictions['%s_pred_corrected' % (target_col)] - predictions['%s' % (target_col)])\n",
    "    for dataset in ['train','validation','test']:\n",
    "        c = predictions[predictions['dataset'] == dataset].corr()['%s' % (target_col)]['%s_pred_corrected' % (target_col)]\n",
    "        rmse = np.sqrt(predictions[predictions['dataset'] == dataset]['error2'].mean())\n",
    "        results.append([\"cnn\",target_col,dataset,c,rmse,idx])"
   ]
  },
  {
   "cell_type": "code",
   "execution_count": 20,
   "metadata": {},
   "outputs": [],
   "source": [
    "for mod in ['rr','rf']:\n",
    "    for idx,target_col in enumerate(target_cols):\n",
    "        target_df = alldata_processed[[\"videoid\",\"side\",target_col]].copy()\n",
    "        predictions = pd.read_csv(\"./data/predictions/%s_%s_predictions.csv\" % (mod,target_col),dtype={'videoid':int})\n",
    "        predictions = predictions.merge(right=target_df,on=['videoid','side'],how='left')\n",
    "        predictions['error2'] = np.square(predictions['%s_pred' % (target_col)] - predictions['%s' % (target_col)])\n",
    "        for dataset in ['train','validation','test']:\n",
    "            c = predictions[predictions['dataset'] == dataset].corr()['%s' % (target_col)]['%s_pred' % (target_col)]\n",
    "            rmse = np.sqrt(predictions[predictions['dataset'] == dataset]['error2'].mean())\n",
    "            results.append([mod,target_col,dataset,c,rmse,idx])"
   ]
  },
  {
   "cell_type": "code",
   "execution_count": 21,
   "metadata": {},
   "outputs": [],
   "source": [
    "results_df = pd.DataFrame(results,columns=['model','target','dataset','correlation','rmse','idx'])"
   ]
  },
  {
   "cell_type": "code",
   "execution_count": 22,
   "metadata": {},
   "outputs": [
    {
     "data": {
      "text/html": [
       "<div>\n",
       "<style scoped>\n",
       "    .dataframe tbody tr th:only-of-type {\n",
       "        vertical-align: middle;\n",
       "    }\n",
       "\n",
       "    .dataframe tbody tr th {\n",
       "        vertical-align: top;\n",
       "    }\n",
       "\n",
       "    .dataframe thead th {\n",
       "        text-align: right;\n",
       "    }\n",
       "</style>\n",
       "<table border=\"1\" class=\"dataframe\">\n",
       "  <thead>\n",
       "    <tr style=\"text-align: right;\">\n",
       "      <th></th>\n",
       "      <th>model</th>\n",
       "      <th>target</th>\n",
       "      <th>dataset</th>\n",
       "      <th>correlation</th>\n",
       "      <th>rmse</th>\n",
       "      <th>idx</th>\n",
       "    </tr>\n",
       "  </thead>\n",
       "  <tbody>\n",
       "    <tr>\n",
       "      <th>2</th>\n",
       "      <td>cnn</td>\n",
       "      <td>GDI</td>\n",
       "      <td>test</td>\n",
       "      <td>0.762354</td>\n",
       "      <td>7.891947</td>\n",
       "      <td>0</td>\n",
       "    </tr>\n",
       "    <tr>\n",
       "      <th>5</th>\n",
       "      <td>rr</td>\n",
       "      <td>GDI</td>\n",
       "      <td>test</td>\n",
       "      <td>0.676394</td>\n",
       "      <td>8.638938</td>\n",
       "      <td>0</td>\n",
       "    </tr>\n",
       "    <tr>\n",
       "      <th>8</th>\n",
       "      <td>rf</td>\n",
       "      <td>GDI</td>\n",
       "      <td>test</td>\n",
       "      <td>0.676394</td>\n",
       "      <td>8.638938</td>\n",
       "      <td>0</td>\n",
       "    </tr>\n",
       "  </tbody>\n",
       "</table>\n",
       "</div>"
      ],
      "text/plain": [
       "  model target dataset  correlation      rmse  idx\n",
       "2   cnn    GDI    test     0.762354  7.891947    0\n",
       "5    rr    GDI    test     0.676394  8.638938    0\n",
       "8    rf    GDI    test     0.676394  8.638938    0"
      ]
     },
     "execution_count": 22,
     "metadata": {},
     "output_type": "execute_result"
    }
   ],
   "source": [
    "results_df[results_df['dataset'] == 'test']"
   ]
  },
  {
   "cell_type": "code",
   "execution_count": 23,
   "metadata": {},
   "outputs": [
    {
     "name": "stdout",
     "output_type": "stream",
     "text": [
      "[0]\n",
      "2    0.762354\n",
      "Name: correlation, dtype: float64\n"
     ]
    },
    {
     "data": {
      "image/png": "[encoded data removed]",
      "text/plain": [
       "<Figure size 432x288 with 1 Axes>"
      ]
     },
     "metadata": {},
     "output_type": "display_data"
    }
   ],
   "source": [
    "# Setting the positions and width for the bars\n",
    "results_df_test = results_df[results_df['dataset'] == 'test'].copy().sort_values(by=['model','idx'])\n",
    "pos = list(range(1))\n",
    "width = 0.25 \n",
    "    \n",
    "# Plotting the bars\n",
    "fig, ax = plt.subplots()\n",
    "\n",
    "print(pos)\n",
    "print(results_df_test[results_df_test['model'] == 'cnn']['correlation'])\n",
    "\n",
    "plt.bar(pos, results_df_test[results_df_test['model'] == 'cnn']['correlation'], \n",
    "        width, \n",
    "        alpha=0.5, label='CNN');\n",
    "\n",
    "plt.bar([p + width for p in pos], results_df_test[results_df_test['model'] == 'rr']['correlation'], \n",
    "        width, \n",
    "        alpha=0.5, label='Ridge Regression');\n",
    "\n",
    "plt.bar([p + 2*width for p in pos], results_df_test[results_df_test['model'] == 'rf']['correlation'], \n",
    "        width, \n",
    "        alpha=0.5, label='Random Forest');\n",
    "\n",
    "ax.set_xticks([p + width for p in pos])\n",
    "ax.set_xticklabels(results_df_test['target']);\n",
    "plt.xlabel(\"Parameter\")\n",
    "plt.ylabel(\"Correlation\")\n",
    "plt.legend()\n",
    "plt.ylim([0.5,1]);\n",
    "plt.title(\"Model Performance: Test Correlation\")\n",
    "plt.savefig(\"figures/corr_performance.png\",dpi=600)"
   ]
  },
  {
   "cell_type": "code",
   "execution_count": 24,
   "metadata": {},
   "outputs": [
    {
     "data": {
      "text/html": [
       "<div>\n",
       "<style scoped>\n",
       "    .dataframe tbody tr th:only-of-type {\n",
       "        vertical-align: middle;\n",
       "    }\n",
       "\n",
       "    .dataframe tbody tr th {\n",
       "        vertical-align: top;\n",
       "    }\n",
       "\n",
       "    .dataframe thead th {\n",
       "        text-align: right;\n",
       "    }\n",
       "</style>\n",
       "<table border=\"1\" class=\"dataframe\">\n",
       "  <thead>\n",
       "    <tr style=\"text-align: right;\">\n",
       "      <th></th>\n",
       "      <th>model</th>\n",
       "      <th>target</th>\n",
       "      <th>dataset</th>\n",
       "      <th>correlation</th>\n",
       "      <th>rmse</th>\n",
       "      <th>idx</th>\n",
       "    </tr>\n",
       "  </thead>\n",
       "  <tbody>\n",
       "    <tr>\n",
       "      <th>2</th>\n",
       "      <td>cnn</td>\n",
       "      <td>GDI</td>\n",
       "      <td>test</td>\n",
       "      <td>0.762354</td>\n",
       "      <td>7.891947</td>\n",
       "      <td>0</td>\n",
       "    </tr>\n",
       "    <tr>\n",
       "      <th>8</th>\n",
       "      <td>rf</td>\n",
       "      <td>GDI</td>\n",
       "      <td>test</td>\n",
       "      <td>0.676394</td>\n",
       "      <td>8.638938</td>\n",
       "      <td>0</td>\n",
       "    </tr>\n",
       "    <tr>\n",
       "      <th>5</th>\n",
       "      <td>rr</td>\n",
       "      <td>GDI</td>\n",
       "      <td>test</td>\n",
       "      <td>0.676394</td>\n",
       "      <td>8.638938</td>\n",
       "      <td>0</td>\n",
       "    </tr>\n",
       "  </tbody>\n",
       "</table>\n",
       "</div>"
      ],
      "text/plain": [
       "  model target dataset  correlation      rmse  idx\n",
       "2   cnn    GDI    test     0.762354  7.891947    0\n",
       "8    rf    GDI    test     0.676394  8.638938    0\n",
       "5    rr    GDI    test     0.676394  8.638938    0"
      ]
     },
     "execution_count": 24,
     "metadata": {},
     "output_type": "execute_result"
    }
   ],
   "source": [
    "results_df_test"
   ]
  },
  {
   "cell_type": "code",
   "execution_count": null,
   "metadata": {},
   "outputs": [],
   "source": []
  }
 ],
 "metadata": {
  "kernelspec": {
   "display_name": "Python 3",
   "language": "python",
   "name": "python3"
  },
  "language_info": {
   "codemirror_mode": {
    "name": "ipython",
    "version": 3
   },
   "file_extension": ".py",
   "mimetype": "text/x-python",
   "name": "python",
   "nbconvert_exporter": "python",
   "pygments_lexer": "ipython3",
   "version": "3.6.5"
  }
 },
 "nbformat": 4,
 "nbformat_minor": 2
}
