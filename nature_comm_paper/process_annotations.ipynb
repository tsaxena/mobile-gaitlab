{
 "cells": [
  {
   "cell_type": "code",
   "execution_count": 1,
   "metadata": {},
   "outputs": [],
   "source": [
    "import pandas as pd\n",
    "import numpy as np\n",
    "import datetime\n",
    "import math\n",
    "import os"
   ]
  },
  {
   "cell_type": "code",
   "execution_count": 2,
   "metadata": {},
   "outputs": [],
   "source": [
    "alldata = pd.read_csv(\"./data/annotations/alldata.csv\")\n",
    "videos = pd.read_csv(\"./data/annotations/video_list.csv\")\n",
    "video = videos[\"Video_File\"]\n",
    "exam = videos[\"Exam_ID\"]\n",
    "map_ev = dict(zip(exam,video))\n",
    "alldata[\"videoid\"] = alldata[\"examid\"].apply(lambda x: map_ev[int(x)] if int(x) in map_ev.keys() else None)\n",
    "vids = os.listdir(\"./data/openpose/\")\n",
    "vids = [x.split('-')[0] for x in vids]\n",
    "alldata = alldata.loc[alldata[\"videoid\"].isin(vids)] #only keep data that has a corresponding video available"
   ]
  },
  {
   "cell_type": "code",
   "execution_count": 3,
   "metadata": {},
   "outputs": [],
   "source": [
    "#add gdi\n",
    "gdi = pd.read_csv(\"data/annotations/gdi.csv\")\n",
    "alldata = alldata.merge(right=gdi,on=['Patient_ID','examid','side'],how='left')"
   ]
  },
  {
   "cell_type": "code",
   "execution_count": 4,
   "metadata": {},
   "outputs": [],
   "source": [
    "#only keep videos with data for both the L and R side available\n",
    "alldata['n_sides'] = alldata.groupby('videoid')['GDI'].transform(len)\n",
    "alldata = alldata[alldata['n_sides'] == 2]"
   ]
  },
  {
   "cell_type": "markdown",
   "metadata": {},
   "source": [
    "Per Apoorva's email, I'm counting \"a SEMLS as any event where there were at least two surgeries on the analyzed side (i.e., at least two of the upcoming_\\*_ips)\""
   ]
  },
  {
   "cell_type": "code",
   "execution_count": 5,
   "metadata": {},
   "outputs": [],
   "source": [
    "#compute SEMLS variable\n",
    "surgInfo = pd.read_csv('data/annotations/surgInfo.csv')\n",
    "ips_cols = [x for x in list(surgInfo.columns) if x.split('_')[-1] == 'ips']\n",
    "con_cols = [x for x in list(surgInfo.columns) if x.split('_')[-1] == 'con']\n",
    "surgInfo['n_ips'] = np.sum(surgInfo[ips_cols],axis=1)\n",
    "surgInfo['n_con'] = np.sum(surgInfo[con_cols],axis=1)\n",
    "\n",
    "def is_SEMLS(row):\n",
    "    if row.n_ips >= 2:\n",
    "        return 1\n",
    "    else:\n",
    "        return 0\n",
    "surgInfo['SEMLS'] = surgInfo.apply(is_SEMLS,axis=1)"
   ]
  },
  {
   "cell_type": "code",
   "execution_count": 6,
   "metadata": {},
   "outputs": [],
   "source": [
    "alldata = alldata.merge(right=surgInfo[['Patient_ID','examid','side','SEMLS']],on=['Patient_ID','examid','side'],how='left')\n",
    "alldata[\"SEMLS\"] = alldata[\"SEMLS\"].apply(lambda x: 0 if math.isnan(x) else x)"
   ]
  },
  {
   "cell_type": "code",
   "execution_count": 7,
   "metadata": {},
   "outputs": [],
   "source": [
    "alldata.to_csv('./data/processed/alldata_processed.csv', index=False)"
   ]
  },
  {
   "cell_type": "code",
   "execution_count": null,
   "metadata": {},
   "outputs": [],
   "source": []
  }
 ],
 "metadata": {
  "kernelspec": {
   "display_name": "Python 3",
   "language": "python",
   "name": "python3"
  },
  "language_info": {
   "codemirror_mode": {
    "name": "ipython",
    "version": 3
   },
   "file_extension": ".py",
   "mimetype": "text/x-python",
   "name": "python",
   "nbconvert_exporter": "python",
   "pygments_lexer": "ipython3",
   "version": "3.6.5"
  }
 },
 "nbformat": 4,
 "nbformat_minor": 2
}