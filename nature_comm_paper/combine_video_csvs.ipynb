{
 "cells": [
  {
   "cell_type": "code",
   "execution_count": 1,
   "metadata": {},
   "outputs": [],
   "source": [
    "import pandas as pd\n",
    "import pickle\n",
    "import numpy as np"
   ]
  },
  {
   "cell_type": "code",
   "execution_count": 2,
   "metadata": {},
   "outputs": [],
   "source": [
    "alldata_processed = pd.read_csv(\"./data/processed/alldata_processed.csv\")\n",
    "video_ids = set(alldata_processed['videoid'])"
   ]
  },
  {
   "cell_type": "code",
   "execution_count": 3,
   "metadata": {},
   "outputs": [
    {
     "name": "stdout",
     "output_type": "stream",
     "text": [
      "0.00 percent done\n",
      "3.12 percent done\n",
      "6.24 percent done\n",
      "9.35 percent done\n",
      "12.47 percent done\n",
      "15.59 percent done\n",
      "18.71 percent done\n",
      "21.83 percent done\n",
      "24.95 percent done\n",
      "28.06 percent done\n",
      "31.18 percent done\n",
      "34.30 percent done\n",
      "37.42 percent done\n",
      "40.54 percent done\n",
      "43.65 percent done\n",
      "46.77 percent done\n",
      "49.89 percent done\n",
      "53.01 percent done\n",
      "56.13 percent done\n",
      "59.25 percent done\n",
      "62.36 percent done\n",
      "65.48 percent done\n",
      "68.60 percent done\n",
      "71.72 percent done\n",
      "74.84 percent done\n",
      "77.95 percent done\n",
      "81.07 percent done\n",
      "84.19 percent done\n",
      "87.31 percent done\n",
      "90.43 percent done\n",
      "93.55 percent done\n",
      "96.66 percent done\n",
      "99.78 percent done\n"
     ]
    }
   ],
   "source": [
    "#read all the processed videos into memory (a big dictionary)\n",
    "all_videos = {}\n",
    "for i,video_id in enumerate(video_ids):\n",
    "    if(i % 100 == 0):\n",
    "        print(\"%.2f percent done\" % (i*100./len(video_ids)))\n",
    "    file_string = '%s/processed/video_csvs/%s.csv' % ('data',video_id)\n",
    "    try: \n",
    "        all_videos[video_id] = np.loadtxt(file_string, delimiter=',')\n",
    "    except:\n",
    "        print(\"missing %s\" % (video_id))"
   ]
  },
  {
   "cell_type": "code",
   "execution_count": 4,
   "metadata": {},
   "outputs": [],
   "source": [
    "with open('./data/processed/all_videos_dict.pickle', 'wb') as handle:\n",
    "    pickle.dump(all_videos, handle, protocol=pickle.HIGHEST_PROTOCOL)"
   ]
  },
  {
   "cell_type": "code",
   "execution_count": null,
   "metadata": {},
   "outputs": [],
   "source": []
  }
 ],
 "metadata": {
  "kernelspec": {
   "display_name": "Python 3",
   "language": "python",
   "name": "python3"
  },
  "language_info": {
   "codemirror_mode": {
    "name": "ipython",
    "version": 3
   },
   "file_extension": ".py",
   "mimetype": "text/x-python",
   "name": "python",
   "nbconvert_exporter": "python",
   "pygments_lexer": "ipython3",
   "version": "3.6.5"
  }
 },
 "nbformat": 4,
 "nbformat_minor": 2
}
