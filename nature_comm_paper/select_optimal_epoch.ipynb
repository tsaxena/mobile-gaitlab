{
 "cells": [
  {
   "cell_type": "code",
   "execution_count": 32,
   "metadata": {},
   "outputs": [],
   "source": [
    "import numpy as np\n",
    "import os\n",
    "import matplotlib.pyplot as plt\n",
    "import pandas as pd\n",
    "import sys\n",
    "from statsmodels.regression.linear_model import OLS\n",
    "from statsmodels.discrete.discrete_model import Logit\n",
    "from statsmodels.tools import add_constant\n",
    "import datetime\n",
    "from sklearn.metrics import roc_auc_score\n",
    "import statsmodels.api as sm\n",
    "%matplotlib inline"
   ]
  },
  {
   "cell_type": "code",
   "execution_count": 33,
   "metadata": {},
   "outputs": [],
   "source": [
    "target_col = \"GDI\"\n",
    "predictions = pd.read_csv(\"./data/predictions/cnn_%s_predictions_all_epochs.csv\" % (target_col),dtype={'videoid':int})"
   ]
  },
  {
   "cell_type": "code",
   "execution_count": 34,
   "metadata": {},
   "outputs": [
    {
     "name": "stdout",
     "output_type": "stream",
     "text": [
      "['videoid', 'dataset', 'GDI', 'GDI_pred_0', 'GDI_pred_1', 'GDI_pred_2', 'GDI_pred_3', 'GDI_pred_4', 'GDI_pred_5', 'GDI_pred_6', 'GDI_pred_7', 'GDI_pred_8', 'GDI_pred_9', 'GDI_pred_10', 'GDI_pred_11', 'GDI_pred_12', 'GDI_pred_13', 'GDI_pred_14', 'GDI_pred_15', 'GDI_pred_16', 'GDI_pred_17', 'GDI_pred_18', 'GDI_pred_19', 'GDI_pred_20', 'GDI_pred_21', 'GDI_pred_22', 'GDI_pred_23', 'GDI_pred_24', 'GDI_pred_25', 'GDI_pred_26', 'GDI_pred_27', 'GDI_pred_28', 'GDI_pred_29', 'GDI_pred_30', 'GDI_pred_31', 'GDI_pred_32', 'GDI_pred_33', 'GDI_pred_34', 'GDI_pred_35', 'GDI_pred_36', 'GDI_pred_37', 'GDI_pred_38', 'GDI_pred_39', 'GDI_pred_40', 'GDI_pred_41', 'GDI_pred_42', 'GDI_pred_43', 'GDI_pred_44', 'GDI_pred_45', 'GDI_pred_46', 'GDI_pred_47', 'GDI_pred_48', 'GDI_pred_49', 'GDI_pred_50', 'GDI_pred_51', 'GDI_pred_52', 'GDI_pred_53', 'GDI_pred_54', 'GDI_pred_55', 'GDI_pred_56', 'GDI_pred_57', 'GDI_pred_58', 'GDI_pred_59', 'GDI_pred_60', 'GDI_pred_61', 'GDI_pred_62', 'GDI_pred_63', 'GDI_pred_64', 'GDI_pred_65', 'GDI_pred_66', 'GDI_pred_67', 'GDI_pred_68', 'GDI_pred_69', 'GDI_pred_70', 'GDI_pred_71', 'GDI_pred_72', 'GDI_pred_73', 'GDI_pred_74', 'GDI_pred_75', 'GDI_pred_76', 'GDI_pred_77', 'GDI_pred_78', 'GDI_pred_79', 'GDI_pred_80', 'GDI_pred_81', 'GDI_pred_82', 'GDI_pred_83', 'GDI_pred_84', 'GDI_pred_85', 'GDI_pred_86', 'GDI_pred_87', 'GDI_pred_88', 'GDI_pred_89', 'GDI_pred_90', 'GDI_pred_91', 'GDI_pred_92', 'GDI_pred_93', 'GDI_pred_94', 'GDI_pred_95', 'GDI_pred_96', 'GDI_pred_97', 'GDI_pred_98', 'GDI_pred_99', 'const']\n"
     ]
    }
   ],
   "source": [
    "predictions['const'] = 1\n",
    "print(list(predictions))"
   ]
  },
  {
   "cell_type": "code",
   "execution_count": 35,
   "metadata": {},
   "outputs": [],
   "source": [
    "train_rmse = []\n",
    "val_rmse = []\n",
    "for i in range(100):\n",
    "    lm = sm.OLS(predictions[predictions['dataset'] == 'train'][target_col].values,\n",
    "                       predictions[predictions['dataset'] == 'train'][['%s_pred_%s' % (target_col,i),\"const\"]].values).fit()\n",
    "    \n",
    "    predictions['%s_pred_%s_corrected' % (target_col,i)] = lm.predict(predictions[['%s_pred_%s' % (target_col,i),\"const\"]])\n",
    "    predictions['error2'] = np.square(predictions[target_col] - predictions['%s_pred_%s_corrected' % (target_col,i)])\n",
    "    rmses = np.sqrt(predictions.groupby('dataset')['error2'].mean())\n",
    "    train_rmse.append(rmses.loc['train'])\n",
    "    val_rmse.append(rmses.loc['validation'])"
   ]
  },
  {
   "cell_type": "code",
   "execution_count": 36,
   "metadata": {},
   "outputs": [],
   "source": [
    "best_epoch = np.argmin(val_rmse)"
   ]
  },
  {
   "cell_type": "code",
   "execution_count": 37,
   "metadata": {},
   "outputs": [
    {
     "name": "stdout",
     "output_type": "stream",
     "text": [
      "59\n"
     ]
    }
   ],
   "source": [
    "print(best_epoch)"
   ]
  },
  {
   "cell_type": "code",
   "execution_count": 38,
   "metadata": {},
   "outputs": [],
   "source": [
    "predictions['%s_pred_corrected' % (target_col)] = predictions['%s_pred_%s_corrected' % (target_col,best_epoch)]"
   ]
  },
  {
   "cell_type": "code",
   "execution_count": 39,
   "metadata": {},
   "outputs": [],
   "source": [
    "predictions[['%s_pred_corrected' % (target_col),'videoid','GDI', 'dataset' ]].\\\n",
    "    to_csv(\"./data/predictions/cnn_%s_predictions_best_epoch.csv\" % (target_col),index=False)"
   ]
  },
  {
   "cell_type": "code",
   "execution_count": 40,
   "metadata": {},
   "outputs": [
    {
     "name": "stdout",
     "output_type": "stream",
     "text": [
      "['videoid', 'dataset', 'GDI', 'GDI_pred_0', 'GDI_pred_1', 'GDI_pred_2', 'GDI_pred_3', 'GDI_pred_4', 'GDI_pred_5', 'GDI_pred_6', 'GDI_pred_7', 'GDI_pred_8', 'GDI_pred_9', 'GDI_pred_10', 'GDI_pred_11', 'GDI_pred_12', 'GDI_pred_13', 'GDI_pred_14', 'GDI_pred_15', 'GDI_pred_16', 'GDI_pred_17', 'GDI_pred_18', 'GDI_pred_19', 'GDI_pred_20', 'GDI_pred_21', 'GDI_pred_22', 'GDI_pred_23', 'GDI_pred_24', 'GDI_pred_25', 'GDI_pred_26', 'GDI_pred_27', 'GDI_pred_28', 'GDI_pred_29', 'GDI_pred_30', 'GDI_pred_31', 'GDI_pred_32', 'GDI_pred_33', 'GDI_pred_34', 'GDI_pred_35', 'GDI_pred_36', 'GDI_pred_37', 'GDI_pred_38', 'GDI_pred_39', 'GDI_pred_40', 'GDI_pred_41', 'GDI_pred_42', 'GDI_pred_43', 'GDI_pred_44', 'GDI_pred_45', 'GDI_pred_46', 'GDI_pred_47', 'GDI_pred_48', 'GDI_pred_49', 'GDI_pred_50', 'GDI_pred_51', 'GDI_pred_52', 'GDI_pred_53', 'GDI_pred_54', 'GDI_pred_55', 'GDI_pred_56', 'GDI_pred_57', 'GDI_pred_58', 'GDI_pred_59', 'GDI_pred_60', 'GDI_pred_61', 'GDI_pred_62', 'GDI_pred_63', 'GDI_pred_64', 'GDI_pred_65', 'GDI_pred_66', 'GDI_pred_67', 'GDI_pred_68', 'GDI_pred_69', 'GDI_pred_70', 'GDI_pred_71', 'GDI_pred_72', 'GDI_pred_73', 'GDI_pred_74', 'GDI_pred_75', 'GDI_pred_76', 'GDI_pred_77', 'GDI_pred_78', 'GDI_pred_79', 'GDI_pred_80', 'GDI_pred_81', 'GDI_pred_82', 'GDI_pred_83', 'GDI_pred_84', 'GDI_pred_85', 'GDI_pred_86', 'GDI_pred_87', 'GDI_pred_88', 'GDI_pred_89', 'GDI_pred_90', 'GDI_pred_91', 'GDI_pred_92', 'GDI_pred_93', 'GDI_pred_94', 'GDI_pred_95', 'GDI_pred_96', 'GDI_pred_97', 'GDI_pred_98', 'GDI_pred_99', 'const', 'GDI_pred_0_corrected', 'error2', 'GDI_pred_1_corrected', 'GDI_pred_2_corrected', 'GDI_pred_3_corrected', 'GDI_pred_4_corrected', 'GDI_pred_5_corrected', 'GDI_pred_6_corrected', 'GDI_pred_7_corrected', 'GDI_pred_8_corrected', 'GDI_pred_9_corrected', 'GDI_pred_10_corrected', 'GDI_pred_11_corrected', 'GDI_pred_12_corrected', 'GDI_pred_13_corrected', 'GDI_pred_14_corrected', 'GDI_pred_15_corrected', 'GDI_pred_16_corrected', 'GDI_pred_17_corrected', 'GDI_pred_18_corrected', 'GDI_pred_19_corrected', 'GDI_pred_20_corrected', 'GDI_pred_21_corrected', 'GDI_pred_22_corrected', 'GDI_pred_23_corrected', 'GDI_pred_24_corrected', 'GDI_pred_25_corrected', 'GDI_pred_26_corrected', 'GDI_pred_27_corrected', 'GDI_pred_28_corrected', 'GDI_pred_29_corrected', 'GDI_pred_30_corrected', 'GDI_pred_31_corrected', 'GDI_pred_32_corrected', 'GDI_pred_33_corrected', 'GDI_pred_34_corrected', 'GDI_pred_35_corrected', 'GDI_pred_36_corrected', 'GDI_pred_37_corrected', 'GDI_pred_38_corrected', 'GDI_pred_39_corrected', 'GDI_pred_40_corrected', 'GDI_pred_41_corrected', 'GDI_pred_42_corrected', 'GDI_pred_43_corrected', 'GDI_pred_44_corrected', 'GDI_pred_45_corrected', 'GDI_pred_46_corrected', 'GDI_pred_47_corrected', 'GDI_pred_48_corrected', 'GDI_pred_49_corrected', 'GDI_pred_50_corrected', 'GDI_pred_51_corrected', 'GDI_pred_52_corrected', 'GDI_pred_53_corrected', 'GDI_pred_54_corrected', 'GDI_pred_55_corrected', 'GDI_pred_56_corrected', 'GDI_pred_57_corrected', 'GDI_pred_58_corrected', 'GDI_pred_59_corrected', 'GDI_pred_60_corrected', 'GDI_pred_61_corrected', 'GDI_pred_62_corrected', 'GDI_pred_63_corrected', 'GDI_pred_64_corrected', 'GDI_pred_65_corrected', 'GDI_pred_66_corrected', 'GDI_pred_67_corrected', 'GDI_pred_68_corrected', 'GDI_pred_69_corrected', 'GDI_pred_70_corrected', 'GDI_pred_71_corrected', 'GDI_pred_72_corrected', 'GDI_pred_73_corrected', 'GDI_pred_74_corrected', 'GDI_pred_75_corrected', 'GDI_pred_76_corrected', 'GDI_pred_77_corrected', 'GDI_pred_78_corrected', 'GDI_pred_79_corrected', 'GDI_pred_80_corrected', 'GDI_pred_81_corrected', 'GDI_pred_82_corrected', 'GDI_pred_83_corrected', 'GDI_pred_84_corrected', 'GDI_pred_85_corrected', 'GDI_pred_86_corrected', 'GDI_pred_87_corrected', 'GDI_pred_88_corrected', 'GDI_pred_89_corrected', 'GDI_pred_90_corrected', 'GDI_pred_91_corrected', 'GDI_pred_92_corrected', 'GDI_pred_93_corrected', 'GDI_pred_94_corrected', 'GDI_pred_95_corrected', 'GDI_pred_96_corrected', 'GDI_pred_97_corrected', 'GDI_pred_98_corrected', 'GDI_pred_99_corrected', 'GDI_pred_corrected']\n"
     ]
    }
   ],
   "source": [
    "print(list(predictions))"
   ]
  },
  {
   "cell_type": "code",
   "execution_count": null,
   "metadata": {},
   "outputs": [],
   "source": []
  }
 ],
 "metadata": {
  "kernelspec": {
   "display_name": "Python 3",
   "language": "python",
   "name": "python3"
  },
  "language_info": {
   "codemirror_mode": {
    "name": "ipython",
    "version": 3
   },
   "file_extension": ".py",
   "mimetype": "text/x-python",
   "name": "python",
   "nbconvert_exporter": "python",
   "pygments_lexer": "ipython3",
   "version": "3.6.5"
  }
 },
 "nbformat": 4,
 "nbformat_minor": 2
}
