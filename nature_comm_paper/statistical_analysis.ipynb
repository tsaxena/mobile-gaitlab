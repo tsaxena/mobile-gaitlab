{
 "cells": [
  {
   "cell_type": "code",
   "execution_count": 13,
   "metadata": {},
   "outputs": [],
   "source": [
    "#data analysis of the predictions\n",
    "import numpy as np\n",
    "import os\n",
    "import matplotlib.pyplot as plt\n",
    "import pandas as pd\n",
    "import sys\n",
    "from statsmodels.regression.linear_model import OLS\n",
    "from statsmodels.discrete.discrete_model import Logit\n",
    "from statsmodels.tools import add_constant\n",
    "import datetime\n",
    "from sklearn.metrics import roc_auc_score\n",
    "%matplotlib inline"
   ]
  },
  {
   "cell_type": "code",
   "execution_count": 14,
   "metadata": {},
   "outputs": [],
   "source": [
    "import seaborn as sns\n",
    "from sklearn.metrics import mean_squared_error"
   ]
  },
  {
   "cell_type": "code",
   "execution_count": 15,
   "metadata": {},
   "outputs": [],
   "source": [
    "alldata_processed =\\\n",
    "    pd.read_csv(\"./data/processed/alldata_processed_with_dev_residual.csv\" )\n",
    "alldata_processed['videoid'] = alldata_processed['videoid'].apply(lambda x: int(x))\n",
    "#alldata_processed['Event_Date'] = pd.to_datetime(alldata_processed['Event_Date'],format='%Y-%m-%d')"
   ]
  },
  {
   "cell_type": "code",
   "execution_count": 19,
   "metadata": {},
   "outputs": [],
   "source": [
    "def add_predictions(df,target_col):\n",
    "    predictions = pd.read_csv(\"./data/predictions/cnn_%s_predictions_best_epoch.csv\" % (target_col),dtype={'videoid':int})\n",
    "    predictions = predictions[['videoid','%s_pred_corrected' % (target_col)]]\n",
    "    df = df.merge(right=predictions,on=['videoid'],how='left')\n",
    "    return df"
   ]
  },
  {
   "cell_type": "code",
   "execution_count": 21,
   "metadata": {},
   "outputs": [
    {
     "ename": "FileNotFoundError",
     "evalue": "File b'./data/predictions/cnn_SEMLS_dev_residual_predictions_best_epoch.csv' does not exist",
     "output_type": "error",
     "traceback": [
      "\u001b[1;31m---------------------------------------------------------------------------\u001b[0m",
      "\u001b[1;31mFileNotFoundError\u001b[0m                         Traceback (most recent call last)",
      "\u001b[1;32m<ipython-input-21-e2c3b7059aad>\u001b[0m in \u001b[0;36m<module>\u001b[1;34m()\u001b[0m\n\u001b[0;32m      1\u001b[0m \u001b[0mdf\u001b[0m \u001b[1;33m=\u001b[0m \u001b[0malldata_processed\u001b[0m\u001b[1;33m.\u001b[0m\u001b[0mcopy\u001b[0m\u001b[1;33m(\u001b[0m\u001b[1;33m)\u001b[0m\u001b[1;33m\u001b[0m\u001b[0m\n\u001b[1;32m----> 2\u001b[1;33m \u001b[0mdf\u001b[0m \u001b[1;33m=\u001b[0m \u001b[0madd_predictions\u001b[0m\u001b[1;33m(\u001b[0m\u001b[0mdf\u001b[0m\u001b[1;33m,\u001b[0m\u001b[1;34m\"SEMLS_dev_residual\"\u001b[0m\u001b[1;33m)\u001b[0m\u001b[1;33m\u001b[0m\u001b[0m\n\u001b[0m\u001b[0;32m      3\u001b[0m \u001b[0mdf\u001b[0m \u001b[1;33m=\u001b[0m \u001b[0madd_predictions\u001b[0m\u001b[1;33m(\u001b[0m\u001b[0mdf\u001b[0m\u001b[1;33m,\u001b[0m\u001b[1;34m\"GDI\"\u001b[0m\u001b[1;33m)\u001b[0m\u001b[1;33m\u001b[0m\u001b[0m\n",
      "\u001b[1;32m<ipython-input-19-5a9c318a0b9c>\u001b[0m in \u001b[0;36madd_predictions\u001b[1;34m(df, target_col)\u001b[0m\n\u001b[0;32m      1\u001b[0m \u001b[1;32mdef\u001b[0m \u001b[0madd_predictions\u001b[0m\u001b[1;33m(\u001b[0m\u001b[0mdf\u001b[0m\u001b[1;33m,\u001b[0m\u001b[0mtarget_col\u001b[0m\u001b[1;33m)\u001b[0m\u001b[1;33m:\u001b[0m\u001b[1;33m\u001b[0m\u001b[0m\n\u001b[1;32m----> 2\u001b[1;33m     \u001b[0mpredictions\u001b[0m \u001b[1;33m=\u001b[0m \u001b[0mpd\u001b[0m\u001b[1;33m.\u001b[0m\u001b[0mread_csv\u001b[0m\u001b[1;33m(\u001b[0m\u001b[1;34m\"./data/predictions/cnn_%s_predictions_best_epoch.csv\"\u001b[0m \u001b[1;33m%\u001b[0m \u001b[1;33m(\u001b[0m\u001b[0mtarget_col\u001b[0m\u001b[1;33m)\u001b[0m\u001b[1;33m,\u001b[0m\u001b[0mdtype\u001b[0m\u001b[1;33m=\u001b[0m\u001b[1;33m{\u001b[0m\u001b[1;34m'videoid'\u001b[0m\u001b[1;33m:\u001b[0m\u001b[0mint\u001b[0m\u001b[1;33m}\u001b[0m\u001b[1;33m)\u001b[0m\u001b[1;33m\u001b[0m\u001b[0m\n\u001b[0m\u001b[0;32m      3\u001b[0m     \u001b[0mpredictions\u001b[0m \u001b[1;33m=\u001b[0m \u001b[0mpredictions\u001b[0m\u001b[1;33m[\u001b[0m\u001b[1;33m[\u001b[0m\u001b[1;34m'videoid'\u001b[0m\u001b[1;33m,\u001b[0m\u001b[1;34m'%s_pred_corrected'\u001b[0m \u001b[1;33m%\u001b[0m \u001b[1;33m(\u001b[0m\u001b[0mtarget_col\u001b[0m\u001b[1;33m)\u001b[0m\u001b[1;33m]\u001b[0m\u001b[1;33m]\u001b[0m\u001b[1;33m\u001b[0m\u001b[0m\n\u001b[0;32m      4\u001b[0m     \u001b[0mdf\u001b[0m \u001b[1;33m=\u001b[0m \u001b[0mdf\u001b[0m\u001b[1;33m.\u001b[0m\u001b[0mmerge\u001b[0m\u001b[1;33m(\u001b[0m\u001b[0mright\u001b[0m\u001b[1;33m=\u001b[0m\u001b[0mpredictions\u001b[0m\u001b[1;33m,\u001b[0m\u001b[0mon\u001b[0m\u001b[1;33m=\u001b[0m\u001b[1;33m[\u001b[0m\u001b[1;34m'videoid'\u001b[0m\u001b[1;33m]\u001b[0m\u001b[1;33m,\u001b[0m\u001b[0mhow\u001b[0m\u001b[1;33m=\u001b[0m\u001b[1;34m'left'\u001b[0m\u001b[1;33m)\u001b[0m\u001b[1;33m\u001b[0m\u001b[0m\n\u001b[0;32m      5\u001b[0m     \u001b[1;32mreturn\u001b[0m \u001b[0mdf\u001b[0m\u001b[1;33m\u001b[0m\u001b[0m\n",
      "\u001b[1;32mC:\\Anaconda3\\lib\\site-packages\\pandas\\io\\parsers.py\u001b[0m in \u001b[0;36mparser_f\u001b[1;34m(filepath_or_buffer, sep, delimiter, header, names, index_col, usecols, squeeze, prefix, mangle_dupe_cols, dtype, engine, converters, true_values, false_values, skipinitialspace, skiprows, nrows, na_values, keep_default_na, na_filter, verbose, skip_blank_lines, parse_dates, infer_datetime_format, keep_date_col, date_parser, dayfirst, iterator, chunksize, compression, thousands, decimal, lineterminator, quotechar, quoting, escapechar, comment, encoding, dialect, tupleize_cols, error_bad_lines, warn_bad_lines, skipfooter, doublequote, delim_whitespace, low_memory, memory_map, float_precision)\u001b[0m\n\u001b[0;32m    676\u001b[0m                     skip_blank_lines=skip_blank_lines)\n\u001b[0;32m    677\u001b[0m \u001b[1;33m\u001b[0m\u001b[0m\n\u001b[1;32m--> 678\u001b[1;33m         \u001b[1;32mreturn\u001b[0m \u001b[0m_read\u001b[0m\u001b[1;33m(\u001b[0m\u001b[0mfilepath_or_buffer\u001b[0m\u001b[1;33m,\u001b[0m \u001b[0mkwds\u001b[0m\u001b[1;33m)\u001b[0m\u001b[1;33m\u001b[0m\u001b[0m\n\u001b[0m\u001b[0;32m    679\u001b[0m \u001b[1;33m\u001b[0m\u001b[0m\n\u001b[0;32m    680\u001b[0m     \u001b[0mparser_f\u001b[0m\u001b[1;33m.\u001b[0m\u001b[0m__name__\u001b[0m \u001b[1;33m=\u001b[0m \u001b[0mname\u001b[0m\u001b[1;33m\u001b[0m\u001b[0m\n",
      "\u001b[1;32mC:\\Anaconda3\\lib\\site-packages\\pandas\\io\\parsers.py\u001b[0m in \u001b[0;36m_read\u001b[1;34m(filepath_or_buffer, kwds)\u001b[0m\n\u001b[0;32m    438\u001b[0m \u001b[1;33m\u001b[0m\u001b[0m\n\u001b[0;32m    439\u001b[0m     \u001b[1;31m# Create the parser.\u001b[0m\u001b[1;33m\u001b[0m\u001b[1;33m\u001b[0m\u001b[0m\n\u001b[1;32m--> 440\u001b[1;33m     \u001b[0mparser\u001b[0m \u001b[1;33m=\u001b[0m \u001b[0mTextFileReader\u001b[0m\u001b[1;33m(\u001b[0m\u001b[0mfilepath_or_buffer\u001b[0m\u001b[1;33m,\u001b[0m \u001b[1;33m**\u001b[0m\u001b[0mkwds\u001b[0m\u001b[1;33m)\u001b[0m\u001b[1;33m\u001b[0m\u001b[0m\n\u001b[0m\u001b[0;32m    441\u001b[0m \u001b[1;33m\u001b[0m\u001b[0m\n\u001b[0;32m    442\u001b[0m     \u001b[1;32mif\u001b[0m \u001b[0mchunksize\u001b[0m \u001b[1;32mor\u001b[0m \u001b[0miterator\u001b[0m\u001b[1;33m:\u001b[0m\u001b[1;33m\u001b[0m\u001b[0m\n",
      "\u001b[1;32mC:\\Anaconda3\\lib\\site-packages\\pandas\\io\\parsers.py\u001b[0m in \u001b[0;36m__init__\u001b[1;34m(self, f, engine, **kwds)\u001b[0m\n\u001b[0;32m    785\u001b[0m             \u001b[0mself\u001b[0m\u001b[1;33m.\u001b[0m\u001b[0moptions\u001b[0m\u001b[1;33m[\u001b[0m\u001b[1;34m'has_index_names'\u001b[0m\u001b[1;33m]\u001b[0m \u001b[1;33m=\u001b[0m \u001b[0mkwds\u001b[0m\u001b[1;33m[\u001b[0m\u001b[1;34m'has_index_names'\u001b[0m\u001b[1;33m]\u001b[0m\u001b[1;33m\u001b[0m\u001b[0m\n\u001b[0;32m    786\u001b[0m \u001b[1;33m\u001b[0m\u001b[0m\n\u001b[1;32m--> 787\u001b[1;33m         \u001b[0mself\u001b[0m\u001b[1;33m.\u001b[0m\u001b[0m_make_engine\u001b[0m\u001b[1;33m(\u001b[0m\u001b[0mself\u001b[0m\u001b[1;33m.\u001b[0m\u001b[0mengine\u001b[0m\u001b[1;33m)\u001b[0m\u001b[1;33m\u001b[0m\u001b[0m\n\u001b[0m\u001b[0;32m    788\u001b[0m \u001b[1;33m\u001b[0m\u001b[0m\n\u001b[0;32m    789\u001b[0m     \u001b[1;32mdef\u001b[0m \u001b[0mclose\u001b[0m\u001b[1;33m(\u001b[0m\u001b[0mself\u001b[0m\u001b[1;33m)\u001b[0m\u001b[1;33m:\u001b[0m\u001b[1;33m\u001b[0m\u001b[0m\n",
      "\u001b[1;32mC:\\Anaconda3\\lib\\site-packages\\pandas\\io\\parsers.py\u001b[0m in \u001b[0;36m_make_engine\u001b[1;34m(self, engine)\u001b[0m\n\u001b[0;32m   1012\u001b[0m     \u001b[1;32mdef\u001b[0m \u001b[0m_make_engine\u001b[0m\u001b[1;33m(\u001b[0m\u001b[0mself\u001b[0m\u001b[1;33m,\u001b[0m \u001b[0mengine\u001b[0m\u001b[1;33m=\u001b[0m\u001b[1;34m'c'\u001b[0m\u001b[1;33m)\u001b[0m\u001b[1;33m:\u001b[0m\u001b[1;33m\u001b[0m\u001b[0m\n\u001b[0;32m   1013\u001b[0m         \u001b[1;32mif\u001b[0m \u001b[0mengine\u001b[0m \u001b[1;33m==\u001b[0m \u001b[1;34m'c'\u001b[0m\u001b[1;33m:\u001b[0m\u001b[1;33m\u001b[0m\u001b[0m\n\u001b[1;32m-> 1014\u001b[1;33m             \u001b[0mself\u001b[0m\u001b[1;33m.\u001b[0m\u001b[0m_engine\u001b[0m \u001b[1;33m=\u001b[0m \u001b[0mCParserWrapper\u001b[0m\u001b[1;33m(\u001b[0m\u001b[0mself\u001b[0m\u001b[1;33m.\u001b[0m\u001b[0mf\u001b[0m\u001b[1;33m,\u001b[0m \u001b[1;33m**\u001b[0m\u001b[0mself\u001b[0m\u001b[1;33m.\u001b[0m\u001b[0moptions\u001b[0m\u001b[1;33m)\u001b[0m\u001b[1;33m\u001b[0m\u001b[0m\n\u001b[0m\u001b[0;32m   1015\u001b[0m         \u001b[1;32melse\u001b[0m\u001b[1;33m:\u001b[0m\u001b[1;33m\u001b[0m\u001b[0m\n\u001b[0;32m   1016\u001b[0m             \u001b[1;32mif\u001b[0m \u001b[0mengine\u001b[0m \u001b[1;33m==\u001b[0m \u001b[1;34m'python'\u001b[0m\u001b[1;33m:\u001b[0m\u001b[1;33m\u001b[0m\u001b[0m\n",
      "\u001b[1;32mC:\\Anaconda3\\lib\\site-packages\\pandas\\io\\parsers.py\u001b[0m in \u001b[0;36m__init__\u001b[1;34m(self, src, **kwds)\u001b[0m\n\u001b[0;32m   1706\u001b[0m         \u001b[0mkwds\u001b[0m\u001b[1;33m[\u001b[0m\u001b[1;34m'usecols'\u001b[0m\u001b[1;33m]\u001b[0m \u001b[1;33m=\u001b[0m \u001b[0mself\u001b[0m\u001b[1;33m.\u001b[0m\u001b[0musecols\u001b[0m\u001b[1;33m\u001b[0m\u001b[0m\n\u001b[0;32m   1707\u001b[0m \u001b[1;33m\u001b[0m\u001b[0m\n\u001b[1;32m-> 1708\u001b[1;33m         \u001b[0mself\u001b[0m\u001b[1;33m.\u001b[0m\u001b[0m_reader\u001b[0m \u001b[1;33m=\u001b[0m \u001b[0mparsers\u001b[0m\u001b[1;33m.\u001b[0m\u001b[0mTextReader\u001b[0m\u001b[1;33m(\u001b[0m\u001b[0msrc\u001b[0m\u001b[1;33m,\u001b[0m \u001b[1;33m**\u001b[0m\u001b[0mkwds\u001b[0m\u001b[1;33m)\u001b[0m\u001b[1;33m\u001b[0m\u001b[0m\n\u001b[0m\u001b[0;32m   1709\u001b[0m \u001b[1;33m\u001b[0m\u001b[0m\n\u001b[0;32m   1710\u001b[0m         \u001b[0mpassed_names\u001b[0m \u001b[1;33m=\u001b[0m \u001b[0mself\u001b[0m\u001b[1;33m.\u001b[0m\u001b[0mnames\u001b[0m \u001b[1;32mis\u001b[0m \u001b[1;32mNone\u001b[0m\u001b[1;33m\u001b[0m\u001b[0m\n",
      "\u001b[1;32mpandas\\_libs\\parsers.pyx\u001b[0m in \u001b[0;36mpandas._libs.parsers.TextReader.__cinit__\u001b[1;34m()\u001b[0m\n",
      "\u001b[1;32mpandas\\_libs\\parsers.pyx\u001b[0m in \u001b[0;36mpandas._libs.parsers.TextReader._setup_parser_source\u001b[1;34m()\u001b[0m\n",
      "\u001b[1;31mFileNotFoundError\u001b[0m: File b'./data/predictions/cnn_SEMLS_dev_residual_predictions_best_epoch.csv' does not exist"
     ]
    }
   ],
   "source": [
    "df = alldata_processed.copy()\n",
    "df = add_predictions(df,\"SEMLS_dev_residual\")\n",
    "df = add_predictions(df,\"GDI\")"
   ]
  },
  {
   "cell_type": "code",
   "execution_count": null,
   "metadata": {},
   "outputs": [],
   "source": [
    "df['Anteversion'].fillna(np.mean(df['Anteversion']),inplace=True)"
   ]
  },
  {
   "cell_type": "code",
   "execution_count": null,
   "metadata": {},
   "outputs": [],
   "source": [
    "df['SEMLS_dev_residual_pred_corrected_buckets'] =\\\n",
    "    np.clip(np.floor(df['SEMLS_dev_residual_pred_corrected']/0.1)*0.1,-0.6,0.2)"
   ]
  },
  {
   "cell_type": "code",
   "execution_count": null,
   "metadata": {},
   "outputs": [],
   "source": [
    "sns.pointplot(x='SEMLS_dev_residual_pred_corrected_buckets',y='SEMLS',data=df[df['dataset'] == 'test'])\n",
    "plt.title(\"mean(SEMLS) vs CNN predicted SEMLS dev residual: test set\")"
   ]
  },
  {
   "cell_type": "code",
   "execution_count": null,
   "metadata": {},
   "outputs": [],
   "source": [
    "Xcols = [\"mass_interpolated\",\"mass_interpolated2\",\"age_truncated2\",\"age_truncated\",\n",
    "         \"height_interpolated\",\"height_interpolated2\",\n",
    "         'SEMLS_dev_residual_pred_corrected',\"isPostSurgGaitVisit\",\"const\"]\n",
    "\n",
    "X_train = df[df['dataset'] == 'train'][Xcols]\n",
    "y_train = df[df['dataset'] == 'train'][\"SEMLS\"]\n",
    "X = df[Xcols]\n",
    "y = df[\"SEMLS\"]\n",
    "\n",
    "lm = Logit(y_train,X_train).fit()\n",
    "\n",
    "df['predicted_SEMLS'] = lm.predict(X)"
   ]
  },
  {
   "cell_type": "code",
   "execution_count": null,
   "metadata": {},
   "outputs": [],
   "source": [
    "df['predicted_SEMLS_buckets'] =\\\n",
    "    np.clip(np.floor(df['predicted_SEMLS']/0.05)*0.05,0.05,0.4)"
   ]
  },
  {
   "cell_type": "code",
   "execution_count": null,
   "metadata": {},
   "outputs": [],
   "source": [
    "print(roc_auc_score(df[df['dataset'] == 'train']['SEMLS'],\n",
    "              df[df['dataset'] == 'train']['predicted_SEMLS']),\"train ROC\")\n",
    "\n",
    "print(roc_auc_score(df[df['dataset'] == 'validation']['SEMLS'],\n",
    "              df[df['dataset'] == 'validation']['predicted_SEMLS']),\"validation ROC\")\n",
    "\n",
    "print(roc_auc_score(df[df['dataset'] == 'test']['SEMLS'],\n",
    "              df[df['dataset'] == 'test']['predicted_SEMLS']),\"test ROC\")\n"
   ]
  },
  {
   "cell_type": "code",
   "execution_count": null,
   "metadata": {},
   "outputs": [],
   "source": [
    "plt.scatter(df['SEMLS_dev_residual_pred_corrected'],df['GDI'])\n",
    "plt.xlabel(\"Predicted SEMLS Dev Residual (Corrected)\")\n",
    "plt.ylabel(\"GDI\")\n",
    "plt.title(\"GDI vs. Predicted SEMLS Residual (entire dataset)\");"
   ]
  },
  {
   "cell_type": "code",
   "execution_count": null,
   "metadata": {},
   "outputs": [],
   "source": [
    "from sklearn.metrics import roc_curve"
   ]
  },
  {
   "cell_type": "code",
   "execution_count": null,
   "metadata": {},
   "outputs": [],
   "source": [
    "fpr, tpr, thresholds = roc_curve(df[df['dataset'] == 'test']['SEMLS'],\n",
    "          df[df['dataset'] == 'test']['predicted_SEMLS'])"
   ]
  },
  {
   "cell_type": "code",
   "execution_count": null,
   "metadata": {},
   "outputs": [],
   "source": [
    "plt.plot(fpr,tpr)\n",
    "plt.title(\"ROC Curve: Predicted SEMLS\")\n",
    "plt.xlabel(\"fpr\")\n",
    "plt.ylabel(\"tpr\")"
   ]
  },
  {
   "cell_type": "code",
   "execution_count": null,
   "metadata": {},
   "outputs": [],
   "source": [
    "#same analysis but using gdi instead of cnn predictions\n",
    "Xcols = [\"mass_interpolated\",\"mass_interpolated2\",\"age_truncated2\",\"age_truncated\",\n",
    "         \"height_interpolated\",\"height_interpolated2\",\n",
    "         'GDI',\"isPostSurgGaitVisit\",\"const\"]\n",
    "\n",
    "X_train = df[df['dataset'] == 'train'][Xcols]\n",
    "y_train = df[df['dataset'] == 'train'][\"SEMLS\"]\n",
    "X = df[Xcols]\n",
    "y = df[\"SEMLS\"]\n",
    "\n",
    "lm = Logit(y_train,X_train).fit()\n",
    "\n",
    "df['predicted_SEMLS'] = lm.predict(X)\n",
    "lm.summary2()"
   ]
  },
  {
   "cell_type": "code",
   "execution_count": null,
   "metadata": {},
   "outputs": [],
   "source": [
    "print(roc_auc_score(df[df['dataset'] == 'train']['SEMLS'],\n",
    "              df[df['dataset'] == 'train']['predicted_SEMLS']),\"train ROC\")\n",
    "\n",
    "print(roc_auc_score(df[df['dataset'] == 'validation']['SEMLS'],\n",
    "              df[df['dataset'] == 'validation']['predicted_SEMLS']),\"validation ROC\")\n",
    "\n",
    "print(roc_auc_score(df[df['dataset'] == 'test']['SEMLS'],\n",
    "              df[df['dataset'] == 'test']['predicted_SEMLS']),\"test ROC\")\n"
   ]
  },
  {
   "cell_type": "code",
   "execution_count": null,
   "metadata": {},
   "outputs": [],
   "source": [
    "#including both variables\n",
    "Xcols = [\"mass_interpolated\",\"mass_interpolated2\",\"age_truncated2\",\"age_truncated\",\n",
    "         \"height_interpolated\",\"height_interpolated2\",\"SEMLS_dev_residual_pred_corrected\",\n",
    "         'GDI', \"isPostSurgGaitVisit\",\"const\"]\n",
    "\n",
    "X_train = df[df['dataset'] == 'train'][Xcols]\n",
    "y_train = df[df['dataset'] == 'train'][\"SEMLS\"]\n",
    "X = df[Xcols]\n",
    "y = df[\"SEMLS\"]\n",
    "\n",
    "lm = Logit(y_train,X_train).fit()\n",
    "\n",
    "df['predicted_SEMLS'] = lm.predict(X)\n",
    "lm.summary2()"
   ]
  },
  {
   "cell_type": "code",
   "execution_count": null,
   "metadata": {},
   "outputs": [],
   "source": [
    "print(roc_auc_score(df[df['dataset'] == 'train']['SEMLS'],\n",
    "              df[df['dataset'] == 'train']['predicted_SEMLS']),\"train ROC\")\n",
    "\n",
    "print(roc_auc_score(df[df['dataset'] == 'validation']['SEMLS'],\n",
    "              df[df['dataset'] == 'validation']['predicted_SEMLS']),\"validation ROC\")\n",
    "\n",
    "print(roc_auc_score(df[df['dataset'] == 'test']['SEMLS'],\n",
    "              df[df['dataset'] == 'test']['predicted_SEMLS']),\"test ROC\")\n"
   ]
  },
  {
   "cell_type": "markdown",
   "metadata": {},
   "source": [
    "Run the linear model on just the test dataset to get confidence intervals.\n",
    "\n",
    "I use cluster robust standard errors clustered by the videoid (since for each video there is GDI_L, GDI_R and there's likely some within video correlation)"
   ]
  },
  {
   "cell_type": "code",
   "execution_count": null,
   "metadata": {},
   "outputs": [],
   "source": [
    "Xcols = [\"mass_interpolated\",\"mass_interpolated2\",\"age_truncated2\",\"age_truncated\",\n",
    "         \"height_interpolated\",\"height_interpolated2\",\n",
    "         'GDI', \"isPostSurgGaitVisit\",\"SEMLS_dev_residual_pred_corrected\",\"const\"]\n",
    "\n",
    "X_train = df[df['dataset'] == 'test'][Xcols]\n",
    "y_train = df[df['dataset'] == 'test'][\"SEMLS\"]\n",
    "X = df[Xcols]\n",
    "y = df[\"SEMLS\"]\n",
    "\n",
    "lm = Logit(y_train,X_train).fit(cov_type='cluster',cov_kwds={'groups':df[df['dataset'] == 'test']['videoid']})\n",
    "lm.summary2()"
   ]
  },
  {
   "cell_type": "markdown",
   "metadata": {},
   "source": [
    "# Analyze GDI Predictions"
   ]
  },
  {
   "cell_type": "code",
   "execution_count": null,
   "metadata": {},
   "outputs": [],
   "source": [
    "alldata_subset = alldata_processed[['videoid','side','Event_Date','Patient_ID','GDI','gmfcs']].copy()\n",
    "cnn_gdi_predictions = pd.read_csv(\"./data/predictions/cnn_GDI_predictions_best_epoch.csv\",dtype={'videoid':str})\n",
    "cnn_gdi_predictions['videoid'] = cnn_gdi_predictions['videoid'].apply(lambda x: int(x))\n",
    "cnn_gdi_predictions = cnn_gdi_predictions.merge(right=alldata_subset,on=['videoid','side'],how='left')"
   ]
  },
  {
   "cell_type": "code",
   "execution_count": null,
   "metadata": {},
   "outputs": [],
   "source": [
    "sns.reset_defaults();"
   ]
  },
  {
   "cell_type": "code",
   "execution_count": null,
   "metadata": {},
   "outputs": [],
   "source": [
    "cnn_gdi_predictions[cnn_gdi_predictions['dataset'] == 'test'].corr()"
   ]
  },
  {
   "cell_type": "code",
   "execution_count": null,
   "metadata": {},
   "outputs": [],
   "source": [
    "plt.scatter(cnn_gdi_predictions[cnn_gdi_predictions['dataset'] == 'test']['GDI_pred_corrected'],\n",
    "            cnn_gdi_predictions[cnn_gdi_predictions['dataset'] == 'test']['GDI'])\n",
    "plt.xlabel(\"Predicted GDI\")\n",
    "plt.ylabel(\"GDI\")\n",
    "plt.title(\"GDI Predictions: Test Set ($\\\\rho$ = 0.73)\")\n",
    "plt.savefig(\"./figures/gdi_scatterplot.png\",dpi=600)"
   ]
  },
  {
   "cell_type": "code",
   "execution_count": null,
   "metadata": {},
   "outputs": [],
   "source": [
    "#distribution of GDI in different GMFCS groups\n",
    "sns.pointplot(x='gmfcs',y='GDI',data=cnn_gdi_predictions,color='green',\n",
    "             label='GDI')\n",
    "plt.ylabel(\"Average GDI\")\n",
    "plt.ylim([40,110]);\n",
    "plt.title(\"GDI by GMFCS\")\n",
    "plt.legend()\n",
    "plt.savefig(\"./figures/gmfcs_scatterplot.png\",dpi=600)"
   ]
  },
  {
   "cell_type": "code",
   "execution_count": null,
   "metadata": {},
   "outputs": [],
   "source": [
    "analyze_changes = cnn_gdi_predictions.sort_values(by=[\"Patient_ID\",\"side\",\"Event_Date\"]).copy()\n",
    "analyze_changes = analyze_changes[analyze_changes['dataset'] == 'test'].groupby([\"Patient_ID\",\"side\"])[\"GDI\",\"GDI_pred_corrected\"].diff(1)"
   ]
  },
  {
   "cell_type": "code",
   "execution_count": null,
   "metadata": {},
   "outputs": [],
   "source": [
    "forplot = analyze_changes.copy()\n",
    "corr = forplot.corr()['GDI_pred_corrected']['GDI']\n",
    "plt.scatter(forplot['GDI_pred_corrected'],forplot['GDI'])\n",
    "plt.xlabel(\"Change in Predicted GDI\")\n",
    "plt.ylabel(\"Change in GDI\")\n",
    "plt.title(\"Change in Predicted GDI vs Change in GDI: Test Set (corr = %s)\" % (corr))"
   ]
  },
  {
   "cell_type": "code",
   "execution_count": null,
   "metadata": {},
   "outputs": [],
   "source": [
    "#showing increase in correlation for changes >= ~RMSE\n",
    "forplot = analyze_changes[np.abs(analyze_changes['GDI_pred_corrected']) >= 8].copy()\n",
    "corr = forplot.corr()['GDI_pred_corrected']['GDI']\n",
    "plt.scatter(forplot['GDI_pred_corrected'],forplot['GDI'])\n",
    "plt.xlabel(\"Change in Predicted GDI\")\n",
    "plt.ylabel(\"Change in GDI\")\n",
    "plt.title(\"Change in Predicted GDI vs Change in GDI: Test Set (corr = %s)\" % (corr))"
   ]
  }
 ],
 "metadata": {
  "kernelspec": {
   "display_name": "Python 3",
   "language": "python",
   "name": "python3"
  },
  "language_info": {
   "codemirror_mode": {
    "name": "ipython",
    "version": 3
   },
   "file_extension": ".py",
   "mimetype": "text/x-python",
   "name": "python",
   "nbconvert_exporter": "python",
   "pygments_lexer": "ipython3",
   "version": "3.6.5"
  }
 },
 "nbformat": 4,
 "nbformat_minor": 2
}
