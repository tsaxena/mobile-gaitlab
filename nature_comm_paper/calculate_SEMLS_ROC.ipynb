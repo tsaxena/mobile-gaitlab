{
 "cells": [
  {
   "cell_type": "code",
   "execution_count": 65,
   "metadata": {},
   "outputs": [],
   "source": [
    "#data analysis of the predictions\n",
    "import numpy as np\n",
    "import os\n",
    "import matplotlib.pyplot as plt\n",
    "import pandas as pd\n",
    "import sys\n",
    "from statsmodels.regression.linear_model import OLS\n",
    "from statsmodels.discrete.discrete_model import Logit\n",
    "from statsmodels.tools import add_constant\n",
    "import datetime\n",
    "from sklearn.metrics import roc_auc_score\n",
    "from sklearn.metrics import roc_curve\n",
    "%matplotlib inline"
   ]
  },
  {
   "cell_type": "code",
   "execution_count": 66,
   "metadata": {},
   "outputs": [],
   "source": [
    "alldata_processed =\\\n",
    "    pd.read_csv(\"./data/processed/alldata_processed_with_dev_residual.csv\" )\n",
    "alldata_processed['videoid'] = alldata_processed['videoid'].apply(lambda x: int(x))\n",
    "#alldata_processed['Event_Date'] = pd.to_datetime(alldata_processed['Event_Date'],format='%Y-%m-%d')"
   ]
  },
  {
   "cell_type": "code",
   "execution_count": 67,
   "metadata": {},
   "outputs": [],
   "source": [
    "#RR AUCROC\n",
    "df = alldata_processed.copy()"
   ]
  },
  {
   "cell_type": "code",
   "execution_count": 68,
   "metadata": {},
   "outputs": [
    {
     "name": "stdout",
     "output_type": "stream",
     "text": [
      "Optimization terminated successfully.\n",
      "         Current function value: 0.407466\n",
      "         Iterations 7\n"
     ]
    }
   ],
   "source": [
    "predictions = pd.read_csv(\"./data/predictions/rr_SEMLS_dev_residual_predictions.csv\",dtype={'videoid':int})[['videoid','side','SEMLS_dev_residual_pred']]\n",
    "df = df.merge(right=predictions,on=['videoid','side'],how='left')\n",
    "#print(list(df))\n",
    "Xcols = [\"mass_interpolated\",\"mass_interpolated2\",\"age_truncated2\",\"age_truncated\",\n",
    "         \"height_interpolated\",\"height_interpolated2\",\n",
    "         \"SEMLS_dev_residual_pred\", \"const\"]\n",
    "\n",
    "X_train = df[df['dataset'] == 'train'][Xcols]\n",
    "y_train = df[df['dataset'] == 'train'][\"SEMLS\"]\n",
    "X = df[Xcols]\n",
    "y = df[\"SEMLS\"]\n",
    "\n",
    "lm = Logit(y_train,X_train).fit()\n",
    "\n",
    "df['predicted_SEMLS_rr'] = lm.predict(X)"
   ]
  },
  {
   "cell_type": "code",
   "execution_count": 69,
   "metadata": {},
   "outputs": [
    {
     "name": "stdout",
     "output_type": "stream",
     "text": [
      "Optimization terminated successfully.\n",
      "         Current function value: 0.016743\n",
      "         Iterations 12\n"
     ]
    }
   ],
   "source": [
    "#RF AUCROC\n",
    "df = df.drop('SEMLS_dev_residual_pred',axis=1)\n",
    "predictions = pd.read_csv(\"./data/predictions/rf_SEMLS_dev_residual_predictions.csv\",dtype={'videoid':int})[['videoid','side','SEMLS_dev_residual_pred']]\n",
    "#print(list(df))\n",
    "df = df.merge(right=predictions,on=['videoid','side'],how='left')\n",
    "Xcols = [\"mass_interpolated\",\"mass_interpolated2\",\"age_truncated2\",\"age_truncated\",\n",
    "         \"height_interpolated\",\"height_interpolated2\",\n",
    "         'SEMLS_dev_residual_pred',#\"isPostSurgGaitVisit\",\n",
    "         \"const\"]\n",
    "\n",
    "X_train = df[df['dataset'] == 'train'][Xcols]\n",
    "y_train = df[df['dataset'] == 'train'][\"SEMLS\"]\n",
    "X = df[Xcols]\n",
    "y = df[\"SEMLS\"]\n",
    "\n",
    "lm = Logit(y_train,X_train).fit()\n",
    "\n",
    "df['predicted_SEMLS_rf'] = lm.predict(X)"
   ]
  },
  {
   "cell_type": "code",
   "execution_count": 70,
   "metadata": {},
   "outputs": [
    {
     "name": "stdout",
     "output_type": "stream",
     "text": [
      "Optimization terminated successfully.\n",
      "         Current function value: 0.434308\n",
      "         Iterations 7\n"
     ]
    }
   ],
   "source": [
    "#CNN AUCROC\n",
    "#df = df.drop('SEMLS_dev_residual_pred',axis=1)\n",
    "predictions = pd.read_csv(\"./data/predictions/cnn_GDI_predictions_best_epoch.csv\",dtype={'videoid':int})[['videoid']]#,'side','SEMLS_dev_residual_pred_corrected']]\n",
    "#print(list(df))\n",
    "df = df.merge(right=predictions,on=['videoid'],how='left')\n",
    "\n",
    "#print(df)\n",
    "Xcols = [\"mass_interpolated\",\"mass_interpolated2\",\"age_truncated2\",\"age_truncated\",\n",
    "         \"height_interpolated\",\"height_interpolated2\",\n",
    "         \"predicted_SEMLS\",#'SEMLS_dev_residual_pred_corrected'#,\"isPostSurgGaitVisit\",\n",
    "         \"const\"]\n",
    "\n",
    "X_train = df[df['dataset'] == 'train'][Xcols]\n",
    "y_train = df[df['dataset'] == 'train'][\"SEMLS\"]\n",
    "X = df[Xcols]\n",
    "y = df[\"SEMLS\"]\n",
    "\n",
    "lm = Logit(y_train,X_train).fit()\n",
    "\n",
    "df['predicted_SEMLS_CNN'] = lm.predict(X)\n"
   ]
  },
  {
   "cell_type": "code",
   "execution_count": 71,
   "metadata": {},
   "outputs": [
    {
     "name": "stdout",
     "output_type": "stream",
     "text": [
      "Optimization terminated successfully.\n",
      "         Current function value: 0.405942\n",
      "         Iterations 7\n"
     ]
    }
   ],
   "source": [
    "#CNN AUCROC\n",
    "Xcols = [\"mass_interpolated\",\"mass_interpolated2\",\"age_truncated2\",\"age_truncated\",\n",
    "         \"height_interpolated\",\"height_interpolated2\",\n",
    "         'GDI',#\"isPostSurgGaitVisit\",\n",
    "         \"const\"]\n",
    "\n",
    "X_train = df[df['dataset'] == 'train'][Xcols]\n",
    "y_train = df[df['dataset'] == 'train'][\"SEMLS\"]\n",
    "X = df[Xcols]\n",
    "y = df[\"SEMLS\"]\n",
    "\n",
    "lm = Logit(y_train,X_train).fit()\n",
    "\n",
    "df['predicted_SEMLS_GDI'] = lm.predict(X)\n"
   ]
  },
  {
   "cell_type": "code",
   "execution_count": 72,
   "metadata": {},
   "outputs": [],
   "source": [
    "fpr_cnn, tpr_cnn, _ = roc_curve(df[df['dataset'] == 'test']['SEMLS'],\n",
    "          df[df['dataset'] == 'test']['predicted_SEMLS_CNN'])\n",
    "\n",
    "fpr_rf, tpr_rf, _ = roc_curve(df[df['dataset'] == 'test']['SEMLS'],\n",
    "          df[df['dataset'] == 'test']['predicted_SEMLS_rf'])\n",
    "\n",
    "fpr_rr, tpr_rr, _ = roc_curve(df[df['dataset'] == 'test']['SEMLS'],\n",
    "          df[df['dataset'] == 'test']['predicted_SEMLS_rr'])\n",
    "\n",
    "fpr_gdi, tpr_gdi, _ = roc_curve(df[df['dataset'] == 'test']['SEMLS'],\n",
    "          df[df['dataset'] == 'test']['predicted_SEMLS_GDI'])"
   ]
  },
  {
   "cell_type": "code",
   "execution_count": 73,
   "metadata": {},
   "outputs": [
    {
     "data": {
      "image/png": "[encoded data removed]",
      "text/plain": [
       "<Figure size 432x288 with 1 Axes>"
      ]
     },
     "metadata": {},
     "output_type": "display_data"
    }
   ],
   "source": [
    "plt.clf()\n",
    "plt.plot(fpr_cnn,tpr_cnn, label=\"CNN (0.716)\")\n",
    "plt.plot(fpr_rf,tpr_rf, label=\"Random Forest (0.663)\")\n",
    "plt.plot(fpr_rr,tpr_rr, label=\"Ridge Regression (0.657)\")\n",
    "plt.plot(fpr_gdi,tpr_gdi, label=\"Using GDI (0.684)\")\n",
    "plt.legend(loc=4)\n",
    "plt.title(\"SEMLS Prediction: ROC Curve\")\n",
    "plt.xlabel(\"False Positive Rate\")\n",
    "plt.ylabel(\"True Positive Rate\")\n",
    "plt.savefig(\"figures/semls_performance.png\",dpi=600)"
   ]
  },
  {
   "cell_type": "code",
   "execution_count": 74,
   "metadata": {},
   "outputs": [
    {
     "name": "stdout",
     "output_type": "stream",
     "text": [
      "0.591337850405208 CNN: test ROC\n",
      "0.6526836721137239 RF: test ROC\n",
      "0.6918426996147204 RR: test ROC\n",
      "0.6701208981001727 Using GDI: test ROC\n"
     ]
    }
   ],
   "source": [
    "print(roc_auc_score(df[df['dataset'] == 'test']['SEMLS'],\n",
    "              df[df['dataset'] == 'test']['predicted_SEMLS_CNN']),\"CNN: test ROC\")\n",
    "\n",
    "print(roc_auc_score(df[df['dataset'] == 'test']['SEMLS'],\n",
    "              df[df['dataset'] == 'test']['predicted_SEMLS_rf']),\"RF: test ROC\")\n",
    "\n",
    "print(roc_auc_score(df[df['dataset'] == 'test']['SEMLS'],\n",
    "              df[df['dataset'] == 'test']['predicted_SEMLS_rr']),\"RR: test ROC\")\n",
    "\n",
    "print(roc_auc_score(df[df['dataset'] == 'test']['SEMLS'],\n",
    "              df[df['dataset'] == 'test']['predicted_SEMLS_GDI']),\"Using GDI: test ROC\")\n"
   ]
  },
  {
   "cell_type": "code",
   "execution_count": null,
   "metadata": {},
   "outputs": [],
   "source": []
  }
 ],
 "metadata": {
  "kernelspec": {
   "display_name": "Python 3",
   "language": "python",
   "name": "python3"
  },
  "language_info": {
   "codemirror_mode": {
    "name": "ipython",
    "version": 3
   },
   "file_extension": ".py",
   "mimetype": "text/x-python",
   "name": "python",
   "nbconvert_exporter": "python",
   "pygments_lexer": "ipython3",
   "version": "3.6.5"
  }
 },
 "nbformat": 4,
 "nbformat_minor": 2
}
